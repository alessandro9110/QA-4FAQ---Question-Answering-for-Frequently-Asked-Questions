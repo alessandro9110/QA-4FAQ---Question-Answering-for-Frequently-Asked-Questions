{
 "cells": [
  {
   "cell_type": "code",
   "execution_count": 1,
   "metadata": {},
   "outputs": [],
   "source": [
    "import pandas as pd\n",
    "import csv\n",
    "import numpy as np"
   ]
  },
  {
   "cell_type": "code",
   "execution_count": 2,
   "metadata": {},
   "outputs": [
    {
     "name": "stdout",
     "output_type": "stream",
     "text": [
      "1132\n"
     ]
    },
    {
     "data": {
      "text/html": [
       "<div>\n",
       "<style>\n",
       "    .dataframe thead tr:only-child th {\n",
       "        text-align: right;\n",
       "    }\n",
       "\n",
       "    .dataframe thead th {\n",
       "        text-align: left;\n",
       "    }\n",
       "\n",
       "    .dataframe tbody tr th {\n",
       "        vertical-align: top;\n",
       "    }\n",
       "</style>\n",
       "<table border=\"1\" class=\"dataframe\">\n",
       "  <thead>\n",
       "    <tr style=\"text-align: right;\">\n",
       "      <th></th>\n",
       "      <th>id</th>\n",
       "      <th>question</th>\n",
       "    </tr>\n",
       "  </thead>\n",
       "  <tbody>\n",
       "    <tr>\n",
       "      <th>0</th>\n",
       "      <td>3</td>\n",
       "      <td>quale è il numero verde di aqp?</td>\n",
       "    </tr>\n",
       "    <tr>\n",
       "      <th>1</th>\n",
       "      <td>4</td>\n",
       "      <td>a quali orari posso chiamare il numero verde?</td>\n",
       "    </tr>\n",
       "    <tr>\n",
       "      <th>2</th>\n",
       "      <td>5</td>\n",
       "      <td>si può telefonare da cellulare al numero verde?</td>\n",
       "    </tr>\n",
       "    <tr>\n",
       "      <th>3</th>\n",
       "      <td>8</td>\n",
       "      <td>sito web di aqp?</td>\n",
       "    </tr>\n",
       "    <tr>\n",
       "      <th>4</th>\n",
       "      <td>41</td>\n",
       "      <td>acqua potabile</td>\n",
       "    </tr>\n",
       "  </tbody>\n",
       "</table>\n",
       "</div>"
      ],
      "text/plain": [
       "   id                                         question\n",
       "0   3                  quale è il numero verde di aqp?\n",
       "1   4    a quali orari posso chiamare il numero verde?\n",
       "2   5  si può telefonare da cellulare al numero verde?\n",
       "3   8                                 sito web di aqp?\n",
       "4  41                                   acqua potabile"
      ]
     },
     "execution_count": 2,
     "metadata": {},
     "output_type": "execute_result"
    }
   ],
   "source": [
    "#dataset originale contenente le 1132 domande da utilizzare per acc,  con il proprio id\n",
    "df = pd.read_csv(\"/home/inversi/FAQProject/Armillotta/Dataset/fullQuestion-testset.csv\", sep = \"\t\", encoding = 'utf8', quotechar = '\"')\n",
    "print(len(df))\n",
    "df.head()"
   ]
  },
  {
   "cell_type": "code",
   "execution_count": 3,
   "metadata": {
    "scrolled": true
   },
   "outputs": [
    {
     "data": {
      "text/html": [
       "<div>\n",
       "<style>\n",
       "    .dataframe thead tr:only-child th {\n",
       "        text-align: right;\n",
       "    }\n",
       "\n",
       "    .dataframe thead th {\n",
       "        text-align: left;\n",
       "    }\n",
       "\n",
       "    .dataframe tbody tr th {\n",
       "        vertical-align: top;\n",
       "    }\n",
       "</style>\n",
       "<table border=\"1\" class=\"dataframe\">\n",
       "  <thead>\n",
       "    <tr style=\"text-align: right;\">\n",
       "      <th></th>\n",
       "      <th>id</th>\n",
       "      <th>question</th>\n",
       "      <th>answer</th>\n",
       "      <th>tag</th>\n",
       "    </tr>\n",
       "  </thead>\n",
       "  <tbody>\n",
       "    <tr>\n",
       "      <th>0</th>\n",
       "      <td>182</td>\n",
       "      <td>Quale uso viene attribuito alla somministrazio...</td>\n",
       "      <td>Per richiedere un nuovo allacciamento è suffic...</td>\n",
       "      <td>uso, commerciale, domestico, allacciamento, so...</td>\n",
       "    </tr>\n",
       "    <tr>\n",
       "      <th>1</th>\n",
       "      <td>183</td>\n",
       "      <td>Qual è il numero per comunicare la lettura del...</td>\n",
       "      <td>Il numero per comunicare la lettura del contat...</td>\n",
       "      <td>contatore, autolettura, lettura, consumi, este...</td>\n",
       "    </tr>\n",
       "    <tr>\n",
       "      <th>2</th>\n",
       "      <td>184</td>\n",
       "      <td>A chi si deve intestare il contratto di acqua ...</td>\n",
       "      <td>L'intestatario del contratto deve coincidere c...</td>\n",
       "      <td>commerciale, domestico, fornitura, intestazion...</td>\n",
       "    </tr>\n",
       "    <tr>\n",
       "      <th>3</th>\n",
       "      <td>185</td>\n",
       "      <td>Cosa è il deposito cauzionale?</td>\n",
       "      <td>Il deposito cauzionale e una somma di denaro c...</td>\n",
       "      <td>deposito cauzionale, fattura, cauzione</td>\n",
       "    </tr>\n",
       "    <tr>\n",
       "      <th>4</th>\n",
       "      <td>186</td>\n",
       "      <td>Quale funzione ha l'Acquedotto?</td>\n",
       "      <td>Tramite il servizio di acquedotto l'acqua vien...</td>\n",
       "      <td>acqua, quota, acquedotto, distribuzione, funzione</td>\n",
       "    </tr>\n",
       "  </tbody>\n",
       "</table>\n",
       "</div>"
      ],
      "text/plain": [
       "    id                                           question  \\\n",
       "0  182  Quale uso viene attribuito alla somministrazio...   \n",
       "1  183  Qual è il numero per comunicare la lettura del...   \n",
       "2  184  A chi si deve intestare il contratto di acqua ...   \n",
       "3  185                     Cosa è il deposito cauzionale?   \n",
       "4  186                    Quale funzione ha l'Acquedotto?   \n",
       "\n",
       "                                              answer  \\\n",
       "0  Per richiedere un nuovo allacciamento è suffic...   \n",
       "1  Il numero per comunicare la lettura del contat...   \n",
       "2  L'intestatario del contratto deve coincidere c...   \n",
       "3  Il deposito cauzionale e una somma di denaro c...   \n",
       "4  Tramite il servizio di acquedotto l'acqua vien...   \n",
       "\n",
       "                                                 tag  \n",
       "0  uso, commerciale, domestico, allacciamento, so...  \n",
       "1  contatore, autolettura, lettura, consumi, este...  \n",
       "2  commerciale, domestico, fornitura, intestazion...  \n",
       "3             deposito cauzionale, fattura, cauzione  \n",
       "4  acqua, quota, acquedotto, distribuzione, funzione  "
      ]
     },
     "execution_count": 3,
     "metadata": {},
     "output_type": "execute_result"
    }
   ],
   "source": [
    "#dataset originale della competizione. Id, q, a, tag.\n",
    "df2 = pd.read_csv(\"/home/inversi/FAQProject/Armillotta/Dataset/faqs_uft8_QA.csv\", sep = \";\", encoding = 'utf8', quotechar = '\"')\n",
    "df2.head()"
   ]
  },
  {
   "cell_type": "code",
   "execution_count": 4,
   "metadata": {
    "scrolled": false
   },
   "outputs": [
    {
     "name": "stdout",
     "output_type": "stream",
     "text": [
      "28300\n"
     ]
    },
    {
     "data": {
      "text/html": [
       "<div>\n",
       "<style>\n",
       "    .dataframe thead tr:only-child th {\n",
       "        text-align: right;\n",
       "    }\n",
       "\n",
       "    .dataframe thead th {\n",
       "        text-align: left;\n",
       "    }\n",
       "\n",
       "    .dataframe tbody tr th {\n",
       "        vertical-align: top;\n",
       "    }\n",
       "</style>\n",
       "<table border=\"1\" class=\"dataframe\">\n",
       "  <thead>\n",
       "    <tr style=\"text-align: right;\">\n",
       "      <th></th>\n",
       "      <th>indice</th>\n",
       "      <th>risposta</th>\n",
       "    </tr>\n",
       "  </thead>\n",
       "  <tbody>\n",
       "    <tr>\n",
       "      <th>0</th>\n",
       "      <td>28</td>\n",
       "      <td>Alle scuole pubbliche e concesso l' uso Pubbl...</td>\n",
       "    </tr>\n",
       "    <tr>\n",
       "      <th>1</th>\n",
       "      <td>322</td>\n",
       "      <td>Il modulo per la verifica del contatore è dis...</td>\n",
       "    </tr>\n",
       "    <tr>\n",
       "      <th>2</th>\n",
       "      <td>353</td>\n",
       "      <td>Il consumo medio al giorno di acqua potabile ...</td>\n",
       "    </tr>\n",
       "    <tr>\n",
       "      <th>3</th>\n",
       "      <td>194</td>\n",
       "      <td>Le diverse tariffe dei consumi , suddivise in...</td>\n",
       "    </tr>\n",
       "    <tr>\n",
       "      <th>4</th>\n",
       "      <td>232</td>\n",
       "      <td>L' Acquedotto Pugliese gestisce un sistema id...</td>\n",
       "    </tr>\n",
       "  </tbody>\n",
       "</table>\n",
       "</div>"
      ],
      "text/plain": [
       "   indice                                           risposta\n",
       "0      28   Alle scuole pubbliche e concesso l' uso Pubbl...\n",
       "1     322   Il modulo per la verifica del contatore è dis...\n",
       "2     353   Il consumo medio al giorno di acqua potabile ...\n",
       "3     194   Le diverse tariffe dei consumi , suddivise in...\n",
       "4     232   L' Acquedotto Pugliese gestisce un sistema id..."
      ]
     },
     "execution_count": 4,
     "metadata": {},
     "output_type": "execute_result"
    }
   ],
   "source": [
    "#DATASET CON I  NOSTRI RISULTATI (RISPOSTA-INDICE POSIZIONE). \n",
    "#L'INDICE SERVE PER RECUPERARE DAL DATASET ORIGINALE, IL SUO ID\n",
    "result=pd.read_csv(\"outcome_final.csv\", sep = \";\", encoding = 'utf8', quotechar = '\"')\n",
    "print(len(result))\n",
    "result.head()"
   ]
  },
  {
   "cell_type": "code",
   "execution_count": 5,
   "metadata": {},
   "outputs": [],
   "source": [
    "result['id_test']= np.nan"
   ]
  },
  {
   "cell_type": "code",
   "execution_count": 6,
   "metadata": {
    "scrolled": true
   },
   "outputs": [
    {
     "name": "stderr",
     "output_type": "stream",
     "text": [
      "/home/inversi/.conda/envs/TextProject/lib/python3.5/site-packages/pandas/core/indexing.py:179: SettingWithCopyWarning: \n",
      "A value is trying to be set on a copy of a slice from a DataFrame\n",
      "\n",
      "See the caveats in the documentation: http://pandas.pydata.org/pandas-docs/stable/indexing.html#indexing-view-versus-copy\n",
      "  self._setitem_with_indexer(indexer, value)\n"
     ]
    }
   ],
   "source": [
    "m=0\n",
    "n=24\n",
    "for i in range(0,len(df)):\n",
    "    a=df['id'].iloc[i]\n",
    "    for j in range(m,n+1):\n",
    "        result['id_test'].iloc[j]=a\n",
    "    m=n+1\n",
    "    n=n+25    "
   ]
  },
  {
   "cell_type": "code",
   "execution_count": 7,
   "metadata": {},
   "outputs": [
    {
     "data": {
      "text/html": [
       "<div>\n",
       "<style>\n",
       "    .dataframe thead tr:only-child th {\n",
       "        text-align: right;\n",
       "    }\n",
       "\n",
       "    .dataframe thead th {\n",
       "        text-align: left;\n",
       "    }\n",
       "\n",
       "    .dataframe tbody tr th {\n",
       "        vertical-align: top;\n",
       "    }\n",
       "</style>\n",
       "<table border=\"1\" class=\"dataframe\">\n",
       "  <thead>\n",
       "    <tr style=\"text-align: right;\">\n",
       "      <th></th>\n",
       "      <th>indice</th>\n",
       "      <th>risposta</th>\n",
       "      <th>id_test</th>\n",
       "    </tr>\n",
       "  </thead>\n",
       "  <tbody>\n",
       "    <tr>\n",
       "      <th>0</th>\n",
       "      <td>28</td>\n",
       "      <td>Alle scuole pubbliche e concesso l' uso Pubbl...</td>\n",
       "      <td>3.0</td>\n",
       "    </tr>\n",
       "    <tr>\n",
       "      <th>1</th>\n",
       "      <td>322</td>\n",
       "      <td>Il modulo per la verifica del contatore è dis...</td>\n",
       "      <td>3.0</td>\n",
       "    </tr>\n",
       "    <tr>\n",
       "      <th>2</th>\n",
       "      <td>353</td>\n",
       "      <td>Il consumo medio al giorno di acqua potabile ...</td>\n",
       "      <td>3.0</td>\n",
       "    </tr>\n",
       "    <tr>\n",
       "      <th>3</th>\n",
       "      <td>194</td>\n",
       "      <td>Le diverse tariffe dei consumi , suddivise in...</td>\n",
       "      <td>3.0</td>\n",
       "    </tr>\n",
       "    <tr>\n",
       "      <th>4</th>\n",
       "      <td>232</td>\n",
       "      <td>L' Acquedotto Pugliese gestisce un sistema id...</td>\n",
       "      <td>3.0</td>\n",
       "    </tr>\n",
       "  </tbody>\n",
       "</table>\n",
       "</div>"
      ],
      "text/plain": [
       "   indice                                           risposta  id_test\n",
       "0      28   Alle scuole pubbliche e concesso l' uso Pubbl...      3.0\n",
       "1     322   Il modulo per la verifica del contatore è dis...      3.0\n",
       "2     353   Il consumo medio al giorno di acqua potabile ...      3.0\n",
       "3     194   Le diverse tariffe dei consumi , suddivise in...      3.0\n",
       "4     232   L' Acquedotto Pugliese gestisce un sistema id...      3.0"
      ]
     },
     "execution_count": 7,
     "metadata": {},
     "output_type": "execute_result"
    }
   ],
   "source": [
    "result.head()"
   ]
  },
  {
   "cell_type": "code",
   "execution_count": 8,
   "metadata": {},
   "outputs": [
    {
     "data": {
      "text/plain": [
       "6313"
      ]
     },
     "execution_count": 8,
     "metadata": {},
     "output_type": "execute_result"
    }
   ],
   "source": [
    "df['id'].iloc[-1]"
   ]
  },
  {
   "cell_type": "code",
   "execution_count": 9,
   "metadata": {},
   "outputs": [
    {
     "data": {
      "text/plain": [
       "indice                                                    260\n",
       "risposta     Invii la ricevuta di entrambi i versamenti ef...\n",
       "id_test                                                  6313\n",
       "Name: 28299, dtype: object"
      ]
     },
     "execution_count": 9,
     "metadata": {},
     "output_type": "execute_result"
    }
   ],
   "source": [
    "result.iloc[-1]"
   ]
  },
  {
   "cell_type": "code",
   "execution_count": 10,
   "metadata": {
    "scrolled": false
   },
   "outputs": [
    {
     "name": "stderr",
     "output_type": "stream",
     "text": [
      "/home/inversi/.conda/envs/TextProject/lib/python3.5/site-packages/pandas/core/indexing.py:179: SettingWithCopyWarning: \n",
      "A value is trying to be set on a copy of a slice from a DataFrame\n",
      "\n",
      "See the caveats in the documentation: http://pandas.pydata.org/pandas-docs/stable/indexing.html#indexing-view-versus-copy\n",
      "  self._setitem_with_indexer(indexer, value)\n"
     ]
    }
   ],
   "source": [
    "result['id_answer']= np.nan\n",
    "for (idx,row) in result.iterrows():\n",
    "    r=df2.iloc[int(row['indice'])]\n",
    "    result['id_answer'].loc[idx] = r['id']"
   ]
  },
  {
   "cell_type": "code",
   "execution_count": 11,
   "metadata": {},
   "outputs": [
    {
     "data": {
      "text/html": [
       "<div>\n",
       "<style>\n",
       "    .dataframe thead tr:only-child th {\n",
       "        text-align: right;\n",
       "    }\n",
       "\n",
       "    .dataframe thead th {\n",
       "        text-align: left;\n",
       "    }\n",
       "\n",
       "    .dataframe tbody tr th {\n",
       "        vertical-align: top;\n",
       "    }\n",
       "</style>\n",
       "<table border=\"1\" class=\"dataframe\">\n",
       "  <thead>\n",
       "    <tr style=\"text-align: right;\">\n",
       "      <th></th>\n",
       "      <th>id_test</th>\n",
       "      <th>id_answer</th>\n",
       "    </tr>\n",
       "  </thead>\n",
       "  <tbody>\n",
       "    <tr>\n",
       "      <th>0</th>\n",
       "      <td>3</td>\n",
       "      <td>211</td>\n",
       "    </tr>\n",
       "    <tr>\n",
       "      <th>1</th>\n",
       "      <td>3</td>\n",
       "      <td>526</td>\n",
       "    </tr>\n",
       "    <tr>\n",
       "      <th>2</th>\n",
       "      <td>3</td>\n",
       "      <td>557</td>\n",
       "    </tr>\n",
       "    <tr>\n",
       "      <th>3</th>\n",
       "      <td>3</td>\n",
       "      <td>385</td>\n",
       "    </tr>\n",
       "    <tr>\n",
       "      <th>4</th>\n",
       "      <td>3</td>\n",
       "      <td>428</td>\n",
       "    </tr>\n",
       "  </tbody>\n",
       "</table>\n",
       "</div>"
      ],
      "text/plain": [
       "   id_test  id_answer\n",
       "0        3        211\n",
       "1        3        526\n",
       "2        3        557\n",
       "3        3        385\n",
       "4        3        428"
      ]
     },
     "execution_count": 11,
     "metadata": {},
     "output_type": "execute_result"
    }
   ],
   "source": [
    "#i nostri risultati idice per indicee\n",
    "result = result[['id_test', 'id_answer']]\n",
    "result['id_answer']=result['id_answer'].astype(np.int64)\n",
    "result['id_test']=result['id_test'].astype(np.int64)\n",
    "result.head()"
   ]
  },
  {
   "cell_type": "code",
   "execution_count": 12,
   "metadata": {},
   "outputs": [],
   "source": [
    "result.to_csv(\"result_our_id.csv\",sep = \"\\t\", encoding = 'utf8', quotechar = '\"')"
   ]
  },
  {
   "cell_type": "code",
   "execution_count": 13,
   "metadata": {},
   "outputs": [
    {
     "data": {
      "text/html": [
       "<div>\n",
       "<style>\n",
       "    .dataframe thead tr:only-child th {\n",
       "        text-align: right;\n",
       "    }\n",
       "\n",
       "    .dataframe thead th {\n",
       "        text-align: left;\n",
       "    }\n",
       "\n",
       "    .dataframe tbody tr th {\n",
       "        vertical-align: top;\n",
       "    }\n",
       "</style>\n",
       "<table border=\"1\" class=\"dataframe\">\n",
       "  <thead>\n",
       "    <tr style=\"text-align: right;\">\n",
       "      <th></th>\n",
       "      <th>id_test</th>\n",
       "      <th>id_answer</th>\n",
       "    </tr>\n",
       "  </thead>\n",
       "  <tbody>\n",
       "    <tr>\n",
       "      <th>0</th>\n",
       "      <td>3</td>\n",
       "      <td>337</td>\n",
       "    </tr>\n",
       "    <tr>\n",
       "      <th>1</th>\n",
       "      <td>4</td>\n",
       "      <td>339</td>\n",
       "    </tr>\n",
       "    <tr>\n",
       "      <th>2</th>\n",
       "      <td>5</td>\n",
       "      <td>414</td>\n",
       "    </tr>\n",
       "    <tr>\n",
       "      <th>3</th>\n",
       "      <td>8</td>\n",
       "      <td>419</td>\n",
       "    </tr>\n",
       "    <tr>\n",
       "      <th>4</th>\n",
       "      <td>41</td>\n",
       "      <td>428</td>\n",
       "    </tr>\n",
       "  </tbody>\n",
       "</table>\n",
       "</div>"
      ],
      "text/plain": [
       "   id_test  id_answer\n",
       "0        3        337\n",
       "1        4        339\n",
       "2        5        414\n",
       "3        8        419\n",
       "4       41        428"
      ]
     },
     "execution_count": 13,
     "metadata": {},
     "output_type": "execute_result"
    }
   ],
   "source": [
    "#risultati competizione indice per indice\n",
    "df = pd.read_csv(\"/home/inversi/FAQProject/Armillotta/Dataset/qa4faq_qrel.csv\", sep = \"\\t\", encoding = 'utf8', quotechar = '\"')\n",
    "df.head()"
   ]
  },
  {
   "cell_type": "code",
   "execution_count": 14,
   "metadata": {},
   "outputs": [
    {
     "name": "stdout",
     "output_type": "stream",
     "text": [
      "Right answers:  163\n",
      "Number test questions:  1132\n",
      "Ununswered question:  969\n"
     ]
    }
   ],
   "source": [
    "scores = pd.merge(result, df, how='inner', on=['id_test', 'id_answer'])\n",
    "\n",
    "n_test_question=1132\n",
    "correct=len(scores)\n",
    "unanswered=n_test_question-correct\n",
    "print(\"Right answers: \",len(scores))\n",
    "print(\"Number test questions: \",n_test_question)\n",
    "print(\"Ununswered question: \",unanswered)\n"
   ]
  },
  {
   "cell_type": "code",
   "execution_count": 15,
   "metadata": {},
   "outputs": [
    {
     "name": "stdout",
     "output_type": "stream",
     "text": [
      "Score:  0.26725190101012625\n"
     ]
    }
   ],
   "source": [
    "score = (1.0/n_test_question) * (correct + (unanswered * (correct/n_test_question)))\n",
    "print (\"Score: \", score)"
   ]
  }
 ],
 "metadata": {
  "kernelspec": {
   "display_name": "TextProject",
   "language": "python",
   "name": "textproject"
  },
  "language_info": {
   "codemirror_mode": {
    "name": "ipython",
    "version": 3
   },
   "file_extension": ".py",
   "mimetype": "text/x-python",
   "name": "python",
   "nbconvert_exporter": "python",
   "pygments_lexer": "ipython3",
   "version": "3.5.4"
  }
 },
 "nbformat": 4,
 "nbformat_minor": 2
}
